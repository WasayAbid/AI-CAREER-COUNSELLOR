{
  "nbformat": 4,
  "nbformat_minor": 0,
  "metadata": {
    "colab": {
      "provenance": []
    },
    "kernelspec": {
      "name": "python3",
      "display_name": "Python 3"
    },
    "language_info": {
      "name": "python"
    }
  },
  "cells": [
    {
      "cell_type": "markdown",
      "source": [
        "#IMPORTING LIBRARIES"
      ],
      "metadata": {
        "id": "SWcN-MD2Soi6"
      }
    },
    {
      "cell_type": "code",
      "source": [
        "import pandas as pd\n",
        "import nltk\n",
        "from nltk.tokenize import word_tokenize\n",
        "from nltk.corpus import stopwords\n",
        "from sklearn.feature_extraction.text import CountVectorizer\n",
        "from sklearn.linear_model import LogisticRegression\n",
        "from sklearn.svm import SVC\n",
        "from sklearn.preprocessing import LabelEncoder,MinMaxScaler\n",
        "from sklearn.model_selection import train_test_split\n",
        "from sklearn.ensemble import RandomForestClassifier\n",
        "from sklearn.tree import DecisionTreeClassifier\n",
        "from sklearn.metrics import accuracy_score, confusion_matrix\n",
        "import seaborn as sns\n",
        "import matplotlib.pyplot as plt\n",
        "import warnings\n"
      ],
      "metadata": {
        "id": "tpnnFR73OoVG"
      },
      "execution_count": null,
      "outputs": []
    },
    {
      "cell_type": "markdown",
      "source": [
        "#READ DATASET"
      ],
      "metadata": {
        "id": "XyIlln1TSyH5"
      }
    },
    {
      "cell_type": "code",
      "source": [
        "# Load career data - Adjust column names as per your actual CSV\n",
        "career = pd.read_csv('/content/temp_career.csv')"
      ],
      "metadata": {
        "id": "J-1hHYSaOpuT"
      },
      "execution_count": null,
      "outputs": []
    },
    {
      "cell_type": "markdown",
      "source": [
        "#CHECK FOR NLTK"
      ],
      "metadata": {
        "id": "3pUPDPVoS2dP"
      }
    },
    {
      "cell_type": "code",
      "source": [
        "# Suppress warnings for NLTK download\n",
        "warnings.filterwarnings(\"ignore\")\n",
        "# Download NLTK resources if not already downloaded\n",
        "nltk.download('punkt', quiet=True)\n",
        "nltk.download('stopwords', quiet=True)"
      ],
      "metadata": {
        "collapsed": true,
        "colab": {
          "base_uri": "https://localhost:8080/"
        },
        "id": "JJAZPrvDOqlD",
        "outputId": "1c730a2f-12d4-43ba-9113-5539023f8fb2"
      },
      "execution_count": null,
      "outputs": [
        {
          "output_type": "execute_result",
          "data": {
            "text/plain": [
              "True"
            ]
          },
          "metadata": {},
          "execution_count": 61
        }
      ]
    },
    {
      "cell_type": "markdown",
      "source": [
        "#ANALYZING DATASET"
      ],
      "metadata": {
        "id": "h0Z_8Fn-TAMW"
      }
    },
    {
      "cell_type": "code",
      "source": [
        "print(\"\\nFeatures (columns) in the dataset:\\n\\n\")\n",
        "for column in career.columns:\n",
        "    print( 'o' ,column,'\\n')\n"
      ],
      "metadata": {
        "colab": {
          "base_uri": "https://localhost:8080/"
        },
        "collapsed": true,
        "id": "6QdoMeErO6tt",
        "outputId": "b8985b72-e154-4e75-bc68-ad30b20a68f3"
      },
      "execution_count": null,
      "outputs": [
        {
          "output_type": "stream",
          "name": "stdout",
          "text": [
            "\n",
            "Features (columns) in the dataset:\n",
            "\n",
            "\n",
            "o What is your name? \n",
            "\n",
            "o What is your gender? \n",
            "\n",
            "o What was your course in UG? \n",
            "\n",
            "o What is your UG specialization? Major Subject (Eg; Mathematics) \n",
            "\n",
            "o What are your interests? \n",
            "\n",
            "o What are your skills ? (Select multiple if necessary) \n",
            "\n",
            "o What was the average CGPA or Percentage obtained in under graduation? \n",
            "\n",
            "o Did you do any certification courses additionally? \n",
            "\n",
            "o If yes, please specify your certificate course title. \n",
            "\n",
            "o Are you working? \n",
            "\n",
            "o If yes, then what is/was your first Job title in your current field of work? If not applicable, write NA.                \n",
            "\n",
            "o Have you done masters after undergraduation? If yes, mention your field of masters.(Eg; Masters in Mathematics) \n",
            "\n",
            "o Recommended Career \n",
            "\n"
          ]
        }
      ]
    },
    {
      "cell_type": "code",
      "source": [
        "print(\"First few rows of the dataset:\\n\\n\\n\")\n",
        "print(career.head(2))\n",
        "print('\\n\\n\\n')"
      ],
      "metadata": {
        "colab": {
          "base_uri": "https://localhost:8080/"
        },
        "collapsed": true,
        "id": "ksBPP6oTO9Pn",
        "outputId": "5e291a65-c254-4f2d-c682-64f336da1ac1"
      },
      "execution_count": null,
      "outputs": [
        {
          "output_type": "stream",
          "name": "stdout",
          "text": [
            "First few rows of the dataset:\n",
            "\n",
            "\n",
            "\n",
            "  What is your name? What is your gender? What was your course in UG?  \\\n",
            "0        A.Uha Priya               Female                        B.Sc   \n",
            "1              Aadil                 Male                         B.E   \n",
            "\n",
            "  What is your UG specialization? Major Subject (Eg; Mathematics)  \\\n",
            "0                              Computer Applications                \n",
            "1                       Computer Science Engineering                \n",
            "\n",
            "  What are your interests?  \\\n",
            "0          Cloud computing   \n",
            "1               Technology   \n",
            "\n",
            "  What are your skills ? (Select multiple if necessary)  \\\n",
            "0                                    Python;SQL;Java      \n",
            "1  Critical Thinking, Analytic Thinking, SQL, Pro...      \n",
            "\n",
            "   What was the average CGPA or Percentage obtained in under graduation?  \\\n",
            "0                                               85.0                       \n",
            "1                                               66.5                       \n",
            "\n",
            "  Did you do any certification courses additionally?  \\\n",
            "0                                                Yes   \n",
            "1                                                Yes   \n",
            "\n",
            "  If yes, please specify your certificate course title. Are you working?  \\\n",
            "0                                          Linux,Git                 Yes   \n",
            "1                           Microsoft certification                  Yes   \n",
            "\n",
            "  If yes, then what is/was your first Job title in your current field of work? If not applicable, write NA.                 \\\n",
            "0                                           Software                                                                         \n",
            "1                         Computer Software Engineer                                                                         \n",
            "\n",
            "  Have you done masters after undergraduation? If yes, mention your field of masters.(Eg; Masters in Mathematics)  \\\n",
            "0                                                MCA                                                                \n",
            "1                                                NaN                                                                \n",
            "\n",
            "          Recommended Career  \n",
            "0  Cloud Solutions Architect  \n",
            "1               Data Analyst  \n",
            "\n",
            "\n",
            "\n",
            "\n"
          ]
        }
      ]
    },
    {
      "cell_type": "code",
      "source": [
        "print(\"\\nLast few rows of the dataset: \\n\\n\\n\")\n",
        "print(career.tail(2))\n",
        "print('\\n\\n\\n')"
      ],
      "metadata": {
        "colab": {
          "base_uri": "https://localhost:8080/"
        },
        "collapsed": true,
        "id": "xSGQyO_hO9Lv",
        "outputId": "f3daafbf-345a-477f-f87c-8cbfd1b748bc"
      },
      "execution_count": null,
      "outputs": [
        {
          "output_type": "stream",
          "name": "stdout",
          "text": [
            "\n",
            "Last few rows of the dataset: \n",
            "\n",
            "\n",
            "\n",
            "   What is your name? What is your gender? What was your course in UG?  \\\n",
            "47       Ajit Cherian                 Male                      B.Tech   \n",
            "48         Ajit Kumar                 Male                      B.Tech   \n",
            "\n",
            "   What is your UG specialization? Major Subject (Eg; Mathematics)  \\\n",
            "47             Electrical and Electronics Engineering                \n",
            "48                       Computer Science Engineering                \n",
            "\n",
            "             What are your interests?  \\\n",
            "47  Information Technology,Blockchain   \n",
            "48                       Software Job   \n",
            "\n",
            "   What are your skills ? (Select multiple if necessary)  \\\n",
            "47  \\nDocker;Kubernetes;Amazon Web Services (AWS);...      \n",
            "48                  Full stack, java, python, reactjs      \n",
            "\n",
            "    What was the average CGPA or Percentage obtained in under graduation?  \\\n",
            "47                                              74.67                       \n",
            "48                                              74.10                       \n",
            "\n",
            "   Did you do any certification courses additionally?  \\\n",
            "47                                                Yes   \n",
            "48                                                Yes   \n",
            "\n",
            "   If yes, please specify your certificate course title. Are you working?  \\\n",
            "47  Creating Routing Policies to Handle Website Tr...                 Yes   \n",
            "48                  Full stack, java, python, reactjs                 Yes   \n",
            "\n",
            "   If yes, then what is/was your first Job title in your current field of work? If not applicable, write NA.                 \\\n",
            "47                                    DevOps Engineer                                                                         \n",
            "48                                 Software developer                                                                         \n",
            "\n",
            "   Have you done masters after undergraduation? If yes, mention your field of masters.(Eg; Masters in Mathematics)  \\\n",
            "47                                                NaN                                                                \n",
            "48                                                NaN                                                                \n",
            "\n",
            "      Recommended Career  \n",
            "47  Full Stack Developer  \n",
            "48  Full Stack Developer  \n",
            "\n",
            "\n",
            "\n",
            "\n"
          ]
        }
      ]
    },
    {
      "cell_type": "code",
      "source": [
        "\n",
        "print(\"\\nSummary of the dataset:\\n\\n\\n\")\n",
        "summary = career.describe()\n",
        "print(summary)\n",
        "print('\\n\\n\\n')"
      ],
      "metadata": {
        "colab": {
          "base_uri": "https://localhost:8080/"
        },
        "collapsed": true,
        "id": "BlGxj_DkO9JH",
        "outputId": "0729497a-590c-4386-c5db-dd78bcb939de"
      },
      "execution_count": null,
      "outputs": [
        {
          "output_type": "stream",
          "name": "stdout",
          "text": [
            "\n",
            "Summary of the dataset:\n",
            "\n",
            "\n",
            "\n",
            "       What was the average CGPA or Percentage obtained in under graduation?\n",
            "count                                          49.000000                    \n",
            "mean                                           72.545510                    \n",
            "std                                             8.364305                    \n",
            "min                                            51.300000                    \n",
            "25%                                            69.000000                    \n",
            "50%                                            73.150000                    \n",
            "75%                                            76.000000                    \n",
            "max                                            92.000000                    \n",
            "\n",
            "\n",
            "\n",
            "\n"
          ]
        }
      ]
    },
    {
      "cell_type": "code",
      "source": [
        "total_records = career.shape[0]          #rows\n",
        "number_of_features = career.shape[1]     #columns\n",
        "\n",
        "print(\"\\nTotal Records:    \", total_records)\n",
        "print(\"Number of Features: \", number_of_features)\n",
        "print('\\n\\n\\n')"
      ],
      "metadata": {
        "colab": {
          "base_uri": "https://localhost:8080/"
        },
        "collapsed": true,
        "id": "KhkRpo8wO9Gq",
        "outputId": "2478c26b-e074-4b2e-b01c-ea5e07b1de33"
      },
      "execution_count": null,
      "outputs": [
        {
          "output_type": "stream",
          "name": "stdout",
          "text": [
            "\n",
            "Total Records:     49\n",
            "Number of Features:  13\n",
            "\n",
            "\n",
            "\n",
            "\n"
          ]
        }
      ]
    },
    {
      "cell_type": "code",
      "source": [
        "\n",
        "print(\"\\nData types of each column:\")\n",
        "print(career.dtypes)\n",
        "print('\\n\\n\\n')"
      ],
      "metadata": {
        "colab": {
          "base_uri": "https://localhost:8080/"
        },
        "collapsed": true,
        "id": "krmyws97O9EI",
        "outputId": "65a1a9b5-6090-453a-c370-a1cd05fb9c02"
      },
      "execution_count": null,
      "outputs": [
        {
          "output_type": "stream",
          "name": "stdout",
          "text": [
            "\n",
            "Data types of each column:\n",
            "What is your name?                                                                                                           object\n",
            "What is your gender?                                                                                                         object\n",
            "What was your course in UG?                                                                                                  object\n",
            "What is your UG specialization? Major Subject (Eg; Mathematics)                                                              object\n",
            "What are your interests?                                                                                                     object\n",
            "What are your skills ? (Select multiple if necessary)                                                                        object\n",
            "What was the average CGPA or Percentage obtained in under graduation?                                                       float64\n",
            "Did you do any certification courses additionally?                                                                           object\n",
            "If yes, please specify your certificate course title.                                                                        object\n",
            "Are you working?                                                                                                             object\n",
            "If yes, then what is/was your first Job title in your current field of work? If not applicable, write NA.                    object\n",
            "Have you done masters after undergraduation? If yes, mention your field of masters.(Eg; Masters in Mathematics)              object\n",
            "Recommended Career                                                                                                           object\n",
            "dtype: object\n",
            "\n",
            "\n",
            "\n",
            "\n"
          ]
        }
      ]
    },
    {
      "cell_type": "code",
      "source": [
        "\n",
        "print(\"\\n basic info of the dataset:\\n\\n\\n\")\n",
        "print(career.info())\n",
        "print('\\n\\n\\n')"
      ],
      "metadata": {
        "colab": {
          "base_uri": "https://localhost:8080/"
        },
        "collapsed": true,
        "id": "RCITCiMBPzI6",
        "outputId": "c750151c-78ad-4bcb-f775-2b33ac8c8a15"
      },
      "execution_count": null,
      "outputs": [
        {
          "output_type": "stream",
          "name": "stdout",
          "text": [
            "\n",
            " basic info of the dataset:\n",
            "\n",
            "\n",
            "\n",
            "<class 'pandas.core.frame.DataFrame'>\n",
            "RangeIndex: 49 entries, 0 to 48\n",
            "Data columns (total 13 columns):\n",
            " #   Column                                                                                                                    Non-Null Count  Dtype  \n",
            "---  ------                                                                                                                    --------------  -----  \n",
            " 0   What is your name?                                                                                                        49 non-null     object \n",
            " 1   What is your gender?                                                                                                      49 non-null     object \n",
            " 2   What was your course in UG?                                                                                               49 non-null     object \n",
            " 3   What is your UG specialization? Major Subject (Eg; Mathematics)                                                           49 non-null     object \n",
            " 4   What are your interests?                                                                                                  49 non-null     object \n",
            " 5   What are your skills ? (Select multiple if necessary)                                                                     49 non-null     object \n",
            " 6   What was the average CGPA or Percentage obtained in under graduation?                                                     49 non-null     float64\n",
            " 7   Did you do any certification courses additionally?                                                                        49 non-null     object \n",
            " 8   If yes, please specify your certificate course title.                                                                     49 non-null     object \n",
            " 9   Are you working?                                                                                                          49 non-null     object \n",
            " 10  If yes, then what is/was your first Job title in your current field of work? If not applicable, write NA.                 38 non-null     object \n",
            " 11  Have you done masters after undergraduation? If yes, mention your field of masters.(Eg; Masters in Mathematics)           22 non-null     object \n",
            " 12  Recommended Career                                                                                                        49 non-null     object \n",
            "dtypes: float64(1), object(12)\n",
            "memory usage: 5.1+ KB\n",
            "None\n",
            "\n",
            "\n",
            "\n",
            "\n"
          ]
        }
      ]
    },
    {
      "cell_type": "markdown",
      "source": [
        "#APPLYING PREPROCESSING"
      ],
      "metadata": {
        "id": "CT6Tya2iTShz"
      }
    },
    {
      "cell_type": "code",
      "source": [
        "# Checking for missing values\n",
        "print(\"Missing values in the dataset:\\n\")\n",
        "res = career.isnull().sum()\n",
        "print(res)\n",
        "print('\\n\\n\\n')"
      ],
      "metadata": {
        "colab": {
          "base_uri": "https://localhost:8080/"
        },
        "collapsed": true,
        "id": "mj4prjbxO8-N",
        "outputId": "1a6b9aaa-d6b0-47e3-a1f1-f5b40c5ca870"
      },
      "execution_count": null,
      "outputs": [
        {
          "output_type": "stream",
          "name": "stdout",
          "text": [
            "Missing values in the dataset:\n",
            "\n",
            "What is your name?                                                                                                           0\n",
            "What is your gender?                                                                                                         0\n",
            "What was your course in UG?                                                                                                  0\n",
            "What is your UG specialization? Major Subject (Eg; Mathematics)                                                              0\n",
            "What are your interests?                                                                                                     0\n",
            "What are your skills ? (Select multiple if necessary)                                                                        0\n",
            "What was the average CGPA or Percentage obtained in under graduation?                                                        0\n",
            "Did you do any certification courses additionally?                                                                           0\n",
            "If yes, please specify your certificate course title.                                                                        0\n",
            "Are you working?                                                                                                             0\n",
            "If yes, then what is/was your first Job title in your current field of work? If not applicable, write NA.                   11\n",
            "Have you done masters after undergraduation? If yes, mention your field of masters.(Eg; Masters in Mathematics)             27\n",
            "Recommended Career                                                                                                           0\n",
            "dtype: int64\n",
            "\n",
            "\n",
            "\n",
            "\n"
          ]
        }
      ]
    },
    {
      "cell_type": "code",
      "source": [
        "# Checking for duplicates\n",
        "print(\"Number of duplicate rows in the dataset:\\n\")\n",
        "duplicates = career.duplicated().sum()\n",
        "print(duplicates)\n",
        "print('\\n\\n\\n')"
      ],
      "metadata": {
        "colab": {
          "base_uri": "https://localhost:8080/"
        },
        "collapsed": true,
        "id": "pTZMZeuaP46x",
        "outputId": "25fd0461-5119-4cde-82b6-765861389061"
      },
      "execution_count": null,
      "outputs": [
        {
          "output_type": "stream",
          "name": "stdout",
          "text": [
            "Number of duplicate rows in the dataset:\n",
            "\n",
            "0\n",
            "\n",
            "\n",
            "\n",
            "\n"
          ]
        }
      ]
    },
    {
      "cell_type": "code",
      "source": [
        "# Removing duplicates\n",
        "career = career.drop_duplicates()\n",
        "print(\"Dataset after removing duplicates:\\n\")\n",
        "print(career.head())\n",
        "print('\\n\\n\\n')"
      ],
      "metadata": {
        "colab": {
          "base_uri": "https://localhost:8080/"
        },
        "collapsed": true,
        "id": "NT9OoNLxP41y",
        "outputId": "3283207d-dfb2-4fe9-d6b7-4871a2334114"
      },
      "execution_count": null,
      "outputs": [
        {
          "output_type": "stream",
          "name": "stdout",
          "text": [
            "Dataset after removing duplicates:\n",
            "\n",
            "  What is your name? What is your gender? What was your course in UG?  \\\n",
            "0        A.Uha Priya               Female                        B.Sc   \n",
            "1              Aadil                 Male                         B.E   \n",
            "2            Aakriti               Female                          BA   \n",
            "3     Aanchal sharma               Female                         MBA   \n",
            "4   Aangkeeta Sarkar               Female                      B.Tech   \n",
            "\n",
            "  What is your UG specialization? Major Subject (Eg; Mathematics)  \\\n",
            "0                              Computer Applications                \n",
            "1                       Computer Science Engineering                \n",
            "2                                         Psychology                \n",
            "3                                           Commerce                \n",
            "4                        Instrumentation Engineering                \n",
            "\n",
            "                            What are your interests?  \\\n",
            "0                                    Cloud computing   \n",
            "1                                         Technology   \n",
            "2                         Understand human behaviour   \n",
            "3  Sales/Marketing;Trading;Understand human behav...   \n",
            "4                                         Technology   \n",
            "\n",
            "  What are your skills ? (Select multiple if necessary)  \\\n",
            "0                                    Python;SQL;Java      \n",
            "1  Critical Thinking, Analytic Thinking, SQL, Pro...      \n",
            "2             People management;Communication skills      \n",
            "3                Accounting Skills;Critical Thinking      \n",
            "4  \\nPLC Allen Bradley;PLC Ladder Logic;LabVIEW;B...      \n",
            "\n",
            "   What was the average CGPA or Percentage obtained in under graduation?  \\\n",
            "0                                             85.000                       \n",
            "1                                             66.500                       \n",
            "2                                             64.600                       \n",
            "3                                             75.525                       \n",
            "4                                             70.680                       \n",
            "\n",
            "  Did you do any certification courses additionally?  \\\n",
            "0                                                Yes   \n",
            "1                                                Yes   \n",
            "2                                                Yes   \n",
            "3                                                 No   \n",
            "4                                                Yes   \n",
            "\n",
            "  If yes, please specify your certificate course title. Are you working?  \\\n",
            "0                                          Linux,Git                 Yes   \n",
            "1                           Microsoft certification                  Yes   \n",
            "2                              Resilience psychology                  No   \n",
            "3                                                 No                 Yes   \n",
            "4            Extreme Productivity (Blinkist Summary)                 Yes   \n",
            "\n",
            "  If yes, then what is/was your first Job title in your current field of work? If not applicable, write NA.                 \\\n",
            "0                                           Software                                                                         \n",
            "1                         Computer Software Engineer                                                                         \n",
            "2                                                NaN                                                                         \n",
            "3                              Relationships manager                                                                         \n",
            "4                     Plant Instrumentation Engineer                                                                         \n",
            "\n",
            "  Have you done masters after undergraduation? If yes, mention your field of masters.(Eg; Masters in Mathematics)  \\\n",
            "0                                                MCA                                                                \n",
            "1                                                NaN                                                                \n",
            "2                                                NaN                                                                \n",
            "3                                                NaN                                                                \n",
            "4                                                NaN                                                                \n",
            "\n",
            "           Recommended Career  \n",
            "0   Cloud Solutions Architect  \n",
            "1                Data Analyst  \n",
            "2  Human Resources Specialist  \n",
            "3           Marketing Manager  \n",
            "4         Automation Engineer  \n",
            "\n",
            "\n",
            "\n",
            "\n"
          ]
        }
      ]
    },
    {
      "cell_type": "code",
      "source": [
        "# Function to preprocess skills\n",
        "def preprocess_skills(skills):\n",
        "    tokens = word_tokenize(skills.lower())  # Tokenize and convert to lowercase\n",
        "    stop_words = set(stopwords.words('english'))\n",
        "    filtered_tokens = [word for word in tokens if word.isalnum() and word not in stop_words]\n",
        "    return ' '.join(filtered_tokens)  # Return preprocessed skills as a string\n"
      ],
      "metadata": {
        "id": "NBOKu45xP4uT"
      },
      "execution_count": null,
      "outputs": []
    },
    {
      "cell_type": "code",
      "source": [
        "X.shape"
      ],
      "metadata": {
        "colab": {
          "base_uri": "https://localhost:8080/"
        },
        "collapsed": true,
        "id": "IUwLpxFBSUZV",
        "outputId": "4af05279-e533-4555-d416-f6849bd3c4cc"
      },
      "execution_count": null,
      "outputs": [
        {
          "output_type": "execute_result",
          "data": {
            "text/plain": [
              "(49, 12)"
            ]
          },
          "metadata": {},
          "execution_count": 75
        }
      ]
    },
    {
      "cell_type": "code",
      "source": [
        "y.shape"
      ],
      "metadata": {
        "collapsed": true,
        "colab": {
          "base_uri": "https://localhost:8080/"
        },
        "id": "9R1mNLEjSaY_",
        "outputId": "5f486775-7881-4c0b-edca-b237623e83ea"
      },
      "execution_count": null,
      "outputs": [
        {
          "output_type": "execute_result",
          "data": {
            "text/plain": [
              "(49,)"
            ]
          },
          "metadata": {},
          "execution_count": 74
        }
      ]
    },
    {
      "cell_type": "markdown",
      "source": [
        "#RECOMMENDING CAREER FUNCTION"
      ],
      "metadata": {
        "id": "da_4bJrMTjMW"
      }
    },
    {
      "cell_type": "code",
      "source": [
        "# Function to recommend careers based on user skills using Logistic Regression\n",
        "def recommend_careers(user_skills):\n",
        "    # Preprocess user skills\n",
        "    user_skills_processed = preprocess_skills(user_skills)\n",
        "\n",
        "    # Extract skills from career data\n",
        "    all_skills = career['What are your skills ? (Select multiple if necessary)'].apply(preprocess_skills)\n",
        "\n",
        "    # Use CountVectorizer to create a feature matrix of skills\n",
        "    vectorizer = CountVectorizer(binary=True)\n",
        "    X = vectorizer.fit_transform(all_skills)\n",
        "\n",
        "    # Target variable\n",
        "    y = career['Recommended Career']\n",
        "\n",
        "    # Train Logistic Regression model\n",
        "    classifier = LogisticRegression(max_iter=1000)\n",
        "    classifier.fit(X, y)\n",
        "\n",
        "    # Predict for user skills\n",
        "    user_skills_vector = vectorizer.transform([user_skills_processed])\n",
        "    predictions = classifier.predict(user_skills_vector)\n",
        "\n",
        "    return predictions\n"
      ],
      "metadata": {
        "id": "9rjvRxenP4r9"
      },
      "execution_count": null,
      "outputs": []
    },
    {
      "cell_type": "markdown",
      "source": [
        "#CALCULATING ACCURACY FUNCTION"
      ],
      "metadata": {
        "id": "ufTJ8ttlTrgY"
      }
    },
    {
      "cell_type": "code",
      "source": [
        "# Function to calculate accuracy of different models\n",
        "def calculate_accuracy(X, y, model):\n",
        "    # Train the model\n",
        "    model.fit(X, y)\n",
        "\n",
        "    # Predictions\n",
        "    y_pred = model.predict(X)\n",
        "\n",
        "    # Calculate accuracy\n",
        "    acc = accuracy_score(y, y_pred)\n",
        "\n",
        "    # Create a 2x2 confusion matrix\n",
        "    cm = confusion_matrix(y, y_pred)\n",
        "    cm_simple = [[cm[0][0] + cm[1][1], cm[0][1] + cm[1][0]], [0, 0]]\n",
        "\n",
        "    # Plot simple confusion matrix using Seaborn\n",
        "    plt.figure(figsize=(4, 4))\n",
        "    sns.heatmap(cm_simple, annot=True, fmt='d', cmap='Blues', xticklabels=['Positive', 'Negative'], yticklabels=['Positive', 'Negative'])\n",
        "    plt.xlabel('Predicted')\n",
        "    plt.ylabel('Actual')\n",
        "    plt.title('Confusion Matrix')\n",
        "    plt.show()\n",
        "\n",
        "    return acc, y_pred\n"
      ],
      "metadata": {
        "id": "5mhlChkAP4pN"
      },
      "execution_count": null,
      "outputs": []
    },
    {
      "cell_type": "markdown",
      "source": [
        "#MAIN FUNCTION"
      ],
      "metadata": {
        "id": "LBxiQgsVTwUE"
      }
    },
    {
      "cell_type": "code",
      "source": [
        "# Interactive input example\n",
        "def main():\n",
        "    print(\"Please select an option:\")\n",
        "    print(\"1. Find accuracy of the model\")\n",
        "    print(\"2. Guide a career\")\n",
        "\n",
        "    option = input(\"Enter your choice (1 or 2): \")\n",
        "\n",
        "    if option == '1':\n",
        "        print(\"Please select a classifier:\")\n",
        "        print(\"1. Logistic Regression\")\n",
        "        print(\"2. Support Vector Machine (SVM)\")\n",
        "        print(\"3. Random Forest\")\n",
        "        print(\"4. Decision Tree\")\n",
        "\n",
        "        classifier_option = input(\"Enter your choice (1, 2, 3, or 4): \")\n",
        "\n",
        "        # Extract skills from career data\n",
        "        all_skills = career['What are your skills ? (Select multiple if necessary)'].apply(preprocess_skills)\n",
        "\n",
        "        # Use CountVectorizer to create a feature matrix of skills\n",
        "        vectorizer = CountVectorizer(binary=True)\n",
        "        X = vectorizer.fit_transform(all_skills)\n",
        "\n",
        "        # Target variable\n",
        "        y = career['Recommended Career']\n",
        "\n",
        "        if classifier_option == '1':\n",
        "            model = LogisticRegression(max_iter=1000)\n",
        "        elif classifier_option == '2':\n",
        "            model = SVC()\n",
        "        elif classifier_option == '3':\n",
        "            model = RandomForestClassifier()\n",
        "        elif classifier_option == '4':\n",
        "            model = DecisionTreeClassifier()\n",
        "        else:\n",
        "            print(\"Invalid choice. Please try again.\")\n",
        "            return\n",
        "\n",
        "        accuracy, y_pred = calculate_accuracy(X, y, model)\n",
        "        print(f\"Accuracy of the model: {accuracy}\")\n",
        "\n",
        "    elif option == '2':\n",
        "        print(\"Please enter your information:\")\n",
        "        name = input(\"Name: \")\n",
        "        gender = input(\"Gender: \")\n",
        "        course = input(\"Course in UG: \")\n",
        "        specialization = input(\"Specialization: \")\n",
        "        interests = input(\"Interests: \")\n",
        "        skills = input(\"Skills (separated by ';'): \")  # Adjust delimiter as per your input format\n",
        "        grades = input(\"Average CGPA or Percentage: \")\n",
        "        any_cert_courses = input(\"Did you do any certification courses additionally? (Yes/No): \")\n",
        "        if any_cert_courses.lower() == 'yes':\n",
        "            cert_course_title = input(\"Certificate course title: \")\n",
        "        else:\n",
        "            cert_course_title = \"NA\"\n",
        "        working = input(\"Are you working? (Yes/No): \")\n",
        "        if working.lower() == 'yes':\n",
        "            job_title = input(\"First job title in current field: \")\n",
        "        else:\n",
        "            job_title = \"NA\"\n",
        "        masters_done = input(\"Have you done masters after undergraduation? (Yes/No): \")\n",
        "        if masters_done.lower() == 'yes':\n",
        "            masters_desc = input(\"Field of masters: \")\n",
        "        else:\n",
        "            masters_desc = \"NA\"\n",
        "\n",
        "        # Generate a user profile based on inputs\n",
        "        user_profile = {\n",
        "            'Name': name,\n",
        "            'Gender': gender,\n",
        "            'Course': course,\n",
        "            'Specialization': specialization,\n",
        "            'Interest': interests,\n",
        "            'Skills': skills,\n",
        "            'Grades': grades,\n",
        "            'Any_Add_Cert_Courses': any_cert_courses,\n",
        "            'Cert_Courses_Desc': cert_course_title,\n",
        "            'Working?': working,\n",
        "            'Job_Title': job_title,\n",
        "            'Masters_Desc': masters_desc\n",
        "        }\n",
        "\n",
        "        # Predict careers based on user skills\n",
        "        predictions = recommend_careers(user_profile['Skills'])\n",
        "\n",
        "        if predictions:\n",
        "            print(f\"\\nPredicted career based on your skills: {predictions[0]}\")\n",
        "        else:\n",
        "            print(\"\\nNo matching career found based on your skills.\")\n",
        "\n",
        "    else:\n",
        "        print(\"Invalid choice. Please try again.\")\n",
        "\n",
        "if __name__ == \"__main__\":\n",
        "    main()\n"
      ],
      "metadata": {
        "colab": {
          "base_uri": "https://localhost:8080/"
        },
        "id": "ex852-NzP4m5",
        "outputId": "30a1db84-3101-48da-961d-7a180fdb06c7"
      },
      "execution_count": null,
      "outputs": [
        {
          "output_type": "stream",
          "name": "stdout",
          "text": [
            "Please select an option:\n",
            "1. Find accuracy of the model\n",
            "2. Guide a career\n",
            "Enter your choice (1 or 2): 2\n",
            "Please enter your information:\n",
            "Name: sf\n",
            "Gender: sf\n",
            "Course in UG: sf\n",
            "Specialization: sf\n",
            "Interests: sf\n",
            "Skills (separated by ';'): People management;Communication skills\n",
            "Average CGPA or Percentage: sf\n",
            "Did you do any certification courses additionally? (Yes/No): sf\n",
            "Are you working? (Yes/No): sf\n",
            "Have you done masters after undergraduation? (Yes/No): sf\n",
            "\n",
            "Predicted career based on your skills: Human Resources Specialist\n"
          ]
        }
      ]
    }
  ]
}